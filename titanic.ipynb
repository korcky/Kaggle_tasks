{
 "cells": [
  {
   "cell_type": "code",
   "execution_count": 1,
   "metadata": {
    "collapsed": false
   },
   "outputs": [],
   "source": [
    "import pandas as pd\n",
    "from pandas import Series,DataFrame\n",
    "\n",
    "import numpy as np\n",
    "from sklearn.model_selection import train_test_split\n",
    "\n",
    "from sklearn.linear_model import LogisticRegression\n",
    "from sklearn.svm import SVC, LinearSVC\n",
    "from sklearn.ensemble import RandomForestClassifier\n",
    "from sklearn.neighbors import KNeighborsClassifier\n",
    "from sklearn.naive_bayes import GaussianNB\n",
    "from sklearn.neural_network import MLPClassifier"
   ]
  },
  {
   "cell_type": "code",
   "execution_count": 2,
   "metadata": {
    "collapsed": false
   },
   "outputs": [],
   "source": [
    "# Get train & test csv files as a DataFrame\n",
    "train_df = pd.read_csv(\"./titanic/train.csv\")\n",
    "test_df  = pd.read_csv(\"./titanic/test.csv\")"
   ]
  },
  {
   "cell_type": "code",
   "execution_count": 3,
   "metadata": {
    "collapsed": false
   },
   "outputs": [],
   "source": [
    "# PassengerId, Name, Ticket\n",
    "train_df.drop(['PassengerId', 'Name', 'Ticket'], axis=1, inplace=True)\n",
    "test_df.drop(['Name', 'Ticket'], axis=1, inplace=True)"
   ]
  },
  {
   "cell_type": "code",
   "execution_count": 4,
   "metadata": {
    "collapsed": true
   },
   "outputs": [],
   "source": [
    "# Embarked\n",
    "train_df.drop(['Embarked'], axis=1, inplace=True)\n",
    "test_df.drop(['Embarked'], axis=1, inplace=True)"
   ]
  },
  {
   "cell_type": "code",
   "execution_count": 5,
   "metadata": {
    "collapsed": true
   },
   "outputs": [],
   "source": [
    "# Fare\n",
    "\n",
    "# Only for test_df, since there is a missing \"Fare\" values\n",
    "test_df[\"Fare\"].fillna(test_df[\"Fare\"].median(), inplace=True)\n",
    "\n",
    "# Convert from float to int\n",
    "train_df['Fare'] = train_df['Fare'].astype(int)\n",
    "test_df['Fare']  = test_df['Fare'].astype(int)"
   ]
  },
  {
   "cell_type": "code",
   "execution_count": 6,
   "metadata": {
    "collapsed": false
   },
   "outputs": [
    {
     "name": "stderr",
     "output_type": "stream",
     "text": [
      "/usr/local/lib/python3.5/dist-packages/ipykernel/__main__.py:22: SettingWithCopyWarning: \n",
      "A value is trying to be set on a copy of a slice from a DataFrame\n",
      "\n",
      "See the caveats in the documentation: http://pandas.pydata.org/pandas-docs/stable/indexing.html#indexing-view-versus-copy\n",
      "/usr/local/lib/python3.5/dist-packages/ipykernel/__main__.py:23: SettingWithCopyWarning: \n",
      "A value is trying to be set on a copy of a slice from a DataFrame\n",
      "\n",
      "See the caveats in the documentation: http://pandas.pydata.org/pandas-docs/stable/indexing.html#indexing-view-versus-copy\n"
     ]
    }
   ],
   "source": [
    "# Age \n",
    "\n",
    "# Get average, std, and number of NaN values in train_df\n",
    "average_age_train   = train_df[\"Age\"].mean()\n",
    "std_age_train       = train_df[\"Age\"].std()\n",
    "count_nan_age_train = train_df[\"Age\"].isnull().sum()\n",
    "\n",
    "# Get average, std, and number of NaN values in test_df\n",
    "average_age_test   = test_df[\"Age\"].mean()\n",
    "std_age_test       = test_df[\"Age\"].std()\n",
    "count_nan_age_test = test_df[\"Age\"].isnull().sum()\n",
    "\n",
    "# Generate random numbers between (mean - std) & (mean + std)\n",
    "rand_1 = np.random.randint(average_age_train - std_age_train,\n",
    "                           average_age_train + std_age_train,\n",
    "                           size = count_nan_age_train)\n",
    "rand_2 = np.random.randint(average_age_test - std_age_test,\n",
    "                           average_age_test + std_age_test,\n",
    "                           size = count_nan_age_test)\n",
    "\n",
    "# Fill NaN values in Age column with random values generated       \n",
    "train_df[\"Age\"][np.isnan(train_df[\"Age\"])] = rand_1\n",
    "test_df[\"Age\"][np.isnan(test_df[\"Age\"])] = rand_2\n",
    "\n",
    "# Convert from float to int\n",
    "train_df['Age'] = train_df['Age'].astype(int)\n",
    "test_df['Age']  = test_df['Age'].astype(int)"
   ]
  },
  {
   "cell_type": "code",
   "execution_count": 7,
   "metadata": {
    "collapsed": false
   },
   "outputs": [],
   "source": [
    "# Cabin\n",
    "# It has a lot of NaN values, so it won't cause a remarkable impact on prediction\n",
    "train_df.drop([\"Cabin\"], axis=1, inplace=True)\n",
    "test_df.drop([\"Cabin\"], axis=1, inplace=True)"
   ]
  },
  {
   "cell_type": "code",
   "execution_count": 8,
   "metadata": {
    "collapsed": false
   },
   "outputs": [],
   "source": [
    "# Family\n",
    "\n",
    "# Instead of having two columns Parch (Parents/Children Aboard) & SibSp (Siblings/Spouses Aboard), \n",
    "# we can have only one column represent if the passenger had any family member aboard or not,\n",
    "# Meaning, if having any family member(whether parent, brother, ...etc) will increase chances of Survival or not.\n",
    "train_df['Family'] =  train_df[\"Parch\"] + train_df[\"SibSp\"]\n",
    "#train_df['Family'].loc[train_df['Family'] > 0] = 1\n",
    "\n",
    "test_df['Family'] =  test_df[\"Parch\"] + test_df[\"SibSp\"]\n",
    "#test_df['Family'].loc[test_df['Family'] > 0] = 1\n",
    "\n",
    "# Drop Parch & SibSp\n",
    "train_df.drop(['SibSp', 'Parch'], axis=1, inplace=True)\n",
    "test_df.drop(['SibSp', 'Parch'], axis=1, inplace=True)"
   ]
  },
  {
   "cell_type": "code",
   "execution_count": 9,
   "metadata": {
    "collapsed": false
   },
   "outputs": [],
   "source": [
    "# Sex\n",
    "\n",
    "# Children(age < ~16) on aboard seem to have a high chances for Survival.\n",
    "# So, we can classify passengers as males, females, and child\n",
    "def get_person(passenger):\n",
    "    age, sex = passenger\n",
    "    return 'child' if age < 16 else sex\n",
    "\n",
    "train_df['Person'] = train_df[['Age', 'Sex']].apply(get_person, axis=1)\n",
    "test_df['Person']  = test_df[['Age', 'Sex']].apply(get_person, axis=1)\n",
    "\n",
    "# No need to use Sex column since we created Person column\n",
    "train_df.drop(['Sex'], axis=1, inplace=True)\n",
    "test_df.drop(['Sex'], axis=1, inplace=True)\n",
    "\n",
    "# Create dummy variables for Person column, & drop Male as it has the lowest average of survived passengers\n",
    "person_dummies_train  = pd.get_dummies(train_df['Person'])\n",
    "person_dummies_train.columns = ['Child', 'Female', 'Male']\n",
    "person_dummies_train.drop(['Male'], axis=1, inplace=True)\n",
    "\n",
    "person_dummies_test  = pd.get_dummies(test_df['Person'])\n",
    "person_dummies_test.columns = ['Child', 'Female', 'Male']\n",
    "person_dummies_test.drop(['Male'], axis=1, inplace=True)\n",
    "\n",
    "train_df = train_df.join(person_dummies_train)\n",
    "test_df  = test_df.join(person_dummies_test)\n",
    "\n",
    "# No need to use Person column since we created dummy variables\n",
    "train_df.drop(['Person'], axis=1, inplace=True)\n",
    "test_df.drop(['Person'], axis=1, inplace=True)"
   ]
  },
  {
   "cell_type": "code",
   "execution_count": 10,
   "metadata": {
    "collapsed": false
   },
   "outputs": [],
   "source": [
    "# Pclass\n",
    "\n",
    "# Create dummy variables for Pclass column, & drop 3rd class as it has the lowest average of survived passengers\n",
    "pclass_dummies_train  = pd.get_dummies(train_df['Pclass'])\n",
    "pclass_dummies_train.columns = ['Class_1', 'Class_2', 'Class_3']\n",
    "pclass_dummies_train.drop(['Class_3'], axis=1, inplace=True)\n",
    "\n",
    "pclass_dummies_test  = pd.get_dummies(test_df['Pclass'])\n",
    "pclass_dummies_test.columns = ['Class_1' ,'Class_2', 'Class_3']\n",
    "pclass_dummies_test.drop(['Class_3'], axis=1, inplace=True)\n",
    "\n",
    "train_df = train_df.join(pclass_dummies_train)\n",
    "test_df  = test_df.join(pclass_dummies_test)\n",
    "\n",
    "# No need to use Pclass column since we created dummy variables\n",
    "train_df.drop(['Pclass'], axis=1, inplace=True)\n",
    "test_df.drop(['Pclass'], axis=1, inplace=True)"
   ]
  },
  {
   "cell_type": "code",
   "execution_count": 11,
   "metadata": {
    "collapsed": false
   },
   "outputs": [],
   "source": [
    "# Define training, testing, & final sets\n",
    "\n",
    "x_train, x_test, y_train, y_test = train_test_split(train_df.drop(\"Survived\", axis=1),\n",
    "                                                    train_df[\"Survived\"],\n",
    "                                                    test_size = 0.3)\n",
    "x_test, x_box, y_test, y_box = train_test_split(x_test, y_test, test_size = 0.3)\n",
    "x_final  = test_df.drop(\"PassengerId\", axis=1).copy()"
   ]
  },
  {
   "cell_type": "code",
   "execution_count": 12,
   "metadata": {
    "collapsed": false
   },
   "outputs": [
    {
     "name": "stdout",
     "output_type": "stream",
     "text": [
      "score: 0.828877005348 C: 0.08\n"
     ]
    }
   ],
   "source": [
    "# Logistic Regression\n",
    "\n",
    "max_score = 0\n",
    "C = 0\n",
    "logreg = 0\n",
    "\n",
    "for some_c in np.arange(0.01, 1, 0.01):\n",
    "    \n",
    "    some_agent = LogisticRegression(C=some_c, random_state=int(np.random.uniform(low=1,high=100)))\n",
    "    some_agent.fit(x_train, y_train)\n",
    "    \n",
    "    if max_score < some_agent.score(x_test, y_test):\n",
    "        C = some_c\n",
    "        max_score = some_agent.score(x_test, y_test)\n",
    "        logreg = some_agent\n",
    "        \n",
    "print('score:', logreg.score(x_test, y_test), 'C:', C)"
   ]
  },
  {
   "cell_type": "code",
   "execution_count": 13,
   "metadata": {
    "collapsed": false
   },
   "outputs": [
    {
     "name": "stdout",
     "output_type": "stream",
     "text": [
      "score: 0.850267379679 n_estimators: 10 criterion: entropy max_features: auto max_depth: 5\n"
     ]
    }
   ],
   "source": [
    "# Random Forests\n",
    "\n",
    "n_estimators = 0\n",
    "criterion = 0\n",
    "max_features = 0\n",
    "max_depth = 0\n",
    "random_forest = 0\n",
    "max_score = 0\n",
    "\n",
    "for some_est in [10, 50, 100, 200]:\n",
    "    for some_criterion in ['gini', 'entropy']:\n",
    "        for some_max_features in ['auto', 'sqrt', 'log2', None]:\n",
    "            for some_max_depth in [None, 2, 3, 4, 5, 10]:\n",
    "                \n",
    "                some_agent = RandomForestClassifier(n_estimators = some_est,\n",
    "                                                    criterion = some_criterion,\n",
    "                                                    max_features = some_max_features,\n",
    "                                                    max_depth = some_max_depth)\n",
    "                some_agent.fit(x_train, y_train)\n",
    "                \n",
    "                if max_score < some_agent.score(x_test, y_test):\n",
    "                    \n",
    "                    n_estimators = some_est\n",
    "                    criterion = some_criterion\n",
    "                    max_features = some_max_features\n",
    "                    max_depth = some_max_depth\n",
    "                    max_score = some_agent.score(x_test, y_test)\n",
    "                    random_forest = some_agent\n",
    "                \n",
    "print('score:', random_forest.score(x_test, y_test), 'n_estimators:', n_estimators,\n",
    "      'criterion:', criterion, 'max_features:', max_features, 'max_depth:', max_depth)"
   ]
  },
  {
   "cell_type": "code",
   "execution_count": 14,
   "metadata": {
    "collapsed": false
   },
   "outputs": [
    {
     "data": {
      "text/plain": [
       "0.81283422459893051"
      ]
     },
     "execution_count": 14,
     "metadata": {},
     "output_type": "execute_result"
    }
   ],
   "source": [
    "# Gaussian Naive Bayes\n",
    "\n",
    "gaussian = GaussianNB()\n",
    "gaussian.fit(x_train, y_train)\n",
    "\n",
    "gaussian.score(x_test, y_test)"
   ]
  },
  {
   "cell_type": "code",
   "execution_count": 18,
   "metadata": {
    "collapsed": false
   },
   "outputs": [
    {
     "data": {
      "text/plain": [
       "0.79679144385026734"
      ]
     },
     "execution_count": 18,
     "metadata": {},
     "output_type": "execute_result"
    }
   ],
   "source": [
    "# Multi-layer Perceptron classifier\n",
    "\n",
    "mlp = MLPClassifier(hidden_layer_sizes=(20,5),\n",
    "                    activation='tanh',\n",
    "                    solver='adam',\n",
    "                    alpha=0.0001,\n",
    "                    max_iter=300)\n",
    "mlp.fit(x_train, y_train)\n",
    "\n",
    "mlp.score(x_test, y_test)"
   ]
  },
  {
   "cell_type": "code",
   "execution_count": 19,
   "metadata": {
    "collapsed": false
   },
   "outputs": [
    {
     "name": "stdout",
     "output_type": "stream",
     "text": [
      "mlp     0.851851851852\n",
      "gaus    0.876543209877\n",
      "rf      0.83950617284\n",
      "logreg  0.83950617284\n"
     ]
    }
   ],
   "source": [
    "[mlp, gaussian, random_forest, logreg]\n",
    "print('mlp    ', mlp.score(x_box, y_box))\n",
    "print('gaus   ', gaussian.score(x_box, y_box))\n",
    "print('rf     ', random_forest.score(x_box, y_box))\n",
    "print('logreg ', logreg.score(x_box, y_box))"
   ]
  },
  {
   "cell_type": "code",
   "execution_count": 61,
   "metadata": {
    "collapsed": false
   },
   "outputs": [
    {
     "name": "stdout",
     "output_type": "stream",
     "text": [
      "0.8641975308641975\n"
     ]
    }
   ],
   "source": [
    "some = np.ndarray(shape=(len(x_box)))\n",
    "m = mlp.predict(x_box)\n",
    "g = gaussian.predict(x_box)\n",
    "r = random_forest.predict(x_box)\n",
    "l = logreg.predict(x_box)\n",
    "for i in range(len(x_box)):\n",
    "    vote = m[i] + g[i] + r[i] + l[i]\n",
    "    if vote > 2:\n",
    "        some[i] = 1\n",
    "    else:\n",
    "        if vote == 2:\n",
    "            if np.random.uniform(0, 1) < 0.5:\n",
    "                some[i] = 1\n",
    "            else:\n",
    "                some[i] = 0\n",
    "        else:\n",
    "            some[i] = 0\n",
    "\n",
    "score = 0\n",
    "for i in range(len(some)):\n",
    "    if some[i] == y_box.as_matrix()[i]:\n",
    "        score += 1\n",
    "print(score/len(some))"
   ]
  },
  {
   "cell_type": "code",
   "execution_count": 68,
   "metadata": {
    "collapsed": false
   },
   "outputs": [],
   "source": [
    "y_final = np.ndarray(shape=(len(x_final)), dtype=int)\n",
    "m = mlp.predict(x_final)\n",
    "g = gaussian.predict(x_final)\n",
    "r = random_forest.predict(x_final)\n",
    "l = logreg.predict(x_final)\n",
    "for i in range(len(x_final)):\n",
    "    vote = m[i] + g[i] + r[i] + l[i]\n",
    "    if vote > 2:\n",
    "        y_final[i] = 1\n",
    "    else:\n",
    "        if vote == 2:\n",
    "            if np.random.uniform(0, 1) < 0.5:\n",
    "                y_final[i] = 1\n",
    "            else:\n",
    "                y_final[i] = 0\n",
    "        else:\n",
    "            y_final[i] = 0"
   ]
  },
  {
   "cell_type": "code",
   "execution_count": 69,
   "metadata": {
    "collapsed": false
   },
   "outputs": [],
   "source": [
    "submission = pd.DataFrame({\n",
    "        \"PassengerId\": test_df[\"PassengerId\"],\n",
    "        \"Survived\": y_final\n",
    "    })\n",
    "submission.to_csv('titanic.csv', index=False)"
   ]
  }
 ],
 "metadata": {
  "kernelspec": {
   "display_name": "Python 3",
   "language": "python",
   "name": "python3"
  },
  "language_info": {
   "codemirror_mode": {
    "name": "ipython",
    "version": 3
   },
   "file_extension": ".py",
   "mimetype": "text/x-python",
   "name": "python",
   "nbconvert_exporter": "python",
   "pygments_lexer": "ipython3",
   "version": "3.5.2"
  }
 },
 "nbformat": 4,
 "nbformat_minor": 2
}
